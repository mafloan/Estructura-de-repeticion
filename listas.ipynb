{
  "cells": [
    {
      "cell_type": "markdown",
      "metadata": {
        "id": "view-in-github",
        "colab_type": "text"
      },
      "source": [
        "<a href=\"https://colab.research.google.com/github/mafloan/Estructura-de-repeticion/blob/main/listas.ipynb\" target=\"_parent\"><img src=\"https://colab.research.google.com/assets/colab-badge.svg\" alt=\"Open In Colab\"/></a>"
      ]
    },
    {
      "cell_type": "code",
      "execution_count": null,
      "metadata": {
        "colab": {
          "base_uri": "https://localhost:8080/"
        },
        "id": "na2I168mWVac",
        "outputId": "d25b2b6d-94bd-43c2-f5ec-1279da5565e5"
      },
      "outputs": [
        {
          "data": {
            "text/plain": [
              "float"
            ]
          },
          "execution_count": 45,
          "metadata": {},
          "output_type": "execute_result"
        }
      ],
      "source": [
        "\n",
        "listas_estudiante=[\"Pilar Reyna\", 7.5, 9, 10, 8]\n",
        "\n",
        "type(listas_estudiante[-4])\n"
      ]
    },
    {
      "cell_type": "code",
      "execution_count": null,
      "metadata": {
        "colab": {
          "base_uri": "https://localhost:8080/"
        },
        "id": "CV6fiL-5LTlK",
        "outputId": "faaaf522-894c-474f-f3fe-b6ed252fddbf"
      },
      "outputs": [
        {
          "data": {
            "text/plain": [
              "5"
            ]
          },
          "execution_count": 53,
          "metadata": {},
          "output_type": "execute_result"
        }
      ],
      "source": [
        "len(listas_estudiante) ##Cantidad de elementos\n"
      ]
    },
    {
      "cell_type": "code",
      "execution_count": null,
      "metadata": {
        "colab": {
          "base_uri": "https://localhost:8080/"
        },
        "id": "HdrPMW93LxT8",
        "outputId": "1e9d48a2-508a-4d3b-d9dc-3c6927c51348"
      },
      "outputs": [
        {
          "data": {
            "text/plain": [
              "['Pilar Reyna', 7.5]"
            ]
          },
          "execution_count": 57,
          "metadata": {},
          "output_type": "execute_result"
        }
      ],
      "source": [
        "listas_estudiante[0:2] ##slidemotion - subgrupo"
      ]
    },
    {
      "cell_type": "code",
      "execution_count": null,
      "metadata": {
        "colab": {
          "base_uri": "https://localhost:8080/"
        },
        "id": "gpzTsCIrMphH",
        "outputId": "d2040929-fad8-49f3-e455-645d5b504587"
      },
      "outputs": [
        {
          "data": {
            "text/plain": [
              "['Pilar Reyna', 7.5, 9]"
            ]
          },
          "execution_count": 58,
          "metadata": {},
          "output_type": "execute_result"
        }
      ],
      "source": [
        "listas_estudiante[:3] ##hasta la tercera posicion"
      ]
    },
    {
      "cell_type": "code",
      "execution_count": null,
      "metadata": {
        "colab": {
          "base_uri": "https://localhost:8080/"
        },
        "id": "E8sQ0XtEM4z3",
        "outputId": "26807f2d-6c75-4263-db92-443e7ea18a44"
      },
      "outputs": [
        {
          "data": {
            "text/plain": [
              "[10, 8]"
            ]
          },
          "execution_count": 59,
          "metadata": {},
          "output_type": "execute_result"
        }
      ],
      "source": [
        "listas_estudiante[3:] ##todo incluyendo tercera posición"
      ]
    },
    {
      "cell_type": "code",
      "execution_count": null,
      "metadata": {
        "colab": {
          "base_uri": "https://localhost:8080/"
        },
        "id": "tyS4q1-aNwS-",
        "outputId": "e91d3837-8b4f-4ffa-face-621d49062522"
      },
      "outputs": [
        {
          "data": {
            "text/plain": [
              "['Pilar Reyna', 7.5, 9, 10, 8]"
            ]
          },
          "execution_count": 60,
          "metadata": {},
          "output_type": "execute_result"
        }
      ],
      "source": [
        "listas_estudiante[:] ##muestra toda la lista"
      ]
    },
    {
      "cell_type": "code",
      "execution_count": null,
      "metadata": {
        "colab": {
          "base_uri": "https://localhost:8080/"
        },
        "id": "3BeFQEclASx8",
        "outputId": "f02b2f0a-e3b1-48a7-84fe-33ea484d2e6c"
      },
      "outputs": [
        {
          "name": "stdout",
          "output_type": "stream",
          "text": [
            "Pilar Reyna\n",
            "7.5\n",
            "9\n",
            "10\n",
            "8.5\n"
          ]
        }
      ],
      "source": [
        "for elemento in listas_estudiante: ##imprime cada elemento de mi lista\n",
        "    print(elemento)"
      ]
    },
    {
      "cell_type": "code",
      "execution_count": null,
      "metadata": {
        "colab": {
          "base_uri": "https://localhost:8080/"
        },
        "id": "6BBd1tqPD-Ky",
        "outputId": "51e21f89-bf84-47db-93e5-1f32d6738d79"
      },
      "outputs": [
        {
          "name": "stdout",
          "output_type": "stream",
          "text": [
            "8.625\n"
          ]
        }
      ],
      "source": [
        "promedio = (listas_estudiante[1]+listas_estudiante[2]+listas_estudiante[3]+listas_estudiante[4])/4\n",
        "print(promedio)\n"
      ]
    },
    {
      "cell_type": "code",
      "execution_count": null,
      "metadata": {
        "colab": {
          "base_uri": "https://localhost:8080/"
        },
        "id": "ZjW1roFRN_WA",
        "outputId": "5a78adb6-1cf7-4b41-f8e5-4089a6ad06da"
      },
      "outputs": [
        {
          "name": "stdout",
          "output_type": "stream",
          "text": [
            "['Pilar Reyna', 7.5, 9, 10, 8, 8.625, 8.625, 8.625]\n"
          ]
        }
      ],
      "source": [
        "listas_estudiante.append(promedio)  # Añade el promedio a la lista\n",
        "print(listas_estudiante)  # Esto imprimirá la lista actualizada"
      ]
    },
    {
      "cell_type": "code",
      "execution_count": null,
      "metadata": {
        "colab": {
          "base_uri": "https://localhost:8080/"
        },
        "id": "KCVJLP2edYFe",
        "outputId": "4765af07-d1b9-43d6-beac-c8232263fab4"
      },
      "outputs": [
        {
          "name": "stdout",
          "output_type": "stream",
          "text": [
            "['Pilar Reyna', 7.5, 9, 10, 8, 8.625, 8.625, 8.625, 6, 7, 8, 6, 7, 6, 7, 6, 7, 6, 7, 6, 7]\n"
          ]
        }
      ],
      "source": [
        "listas_estudiante.extend([6,7])\n",
        "print(listas_estudiante)"
      ]
    },
    {
      "cell_type": "code",
      "execution_count": null,
      "metadata": {
        "colab": {
          "base_uri": "https://localhost:8080/"
        },
        "id": "cWAeGVo9gwdN",
        "outputId": "b074c165-5b3f-4510-f851-8edf5fe017d9"
      },
      "outputs": [
        {
          "name": "stdout",
          "output_type": "stream",
          "text": [
            "['Pilar Reyna', 7.5, 8.625, 7, 7, 6, 7, 6, 7]\n"
          ]
        }
      ],
      "source": [
        "listas_estudiante.remove(6),(7),(6),(7),(6),(7),(6),(7)\n",
        "print(listas_estudiante)\n"
      ]
    },
    {
      "cell_type": "code",
      "execution_count": null,
      "metadata": {
        "colab": {
          "base_uri": "https://localhost:8080/"
        },
        "id": "xST0PXD1G_Vr",
        "outputId": "c8c2b5b6-6a75-46b7-fe75-58ab364fc138"
      },
      "outputs": [
        {
          "name": "stdout",
          "output_type": "stream",
          "text": [
            "['¿Quién vino primera', ' ¿Pilar Reyna', ' O ¿Solange Bagnasco', '']\n"
          ]
        }
      ],
      "source": [
        "pregunta = '¿Quién vino primera? ¿Pilar Reyna? O ¿Solange Bagnasco?'\n",
        "lista_palabras = pregunta.split('?')\n",
        "print(lista_palabras)"
      ]
    },
    {
      "cell_type": "code",
      "execution_count": null,
      "metadata": {
        "colab": {
          "base_uri": "https://localhost:8080/"
        },
        "id": "V5epnrLfHvMS",
        "outputId": "fba8b888-3a02-42eb-fb0d-985f07dcbd4e"
      },
      "outputs": [
        {
          "name": "stdout",
          "output_type": "stream",
          "text": [
            "['¿Quién', 'vino', 'primera?', '¿Pilar', 'Reyna?', 'O', '¿Solange', 'Bagnasco?']\n"
          ]
        }
      ],
      "source": [
        "pregunta = '¿Quién vino primera? ¿Pilar Reyna? O ¿Solange Bagnasco?'\n",
        "lista_palabras = pregunta.split()\n",
        "print(lista_palabras)"
      ]
    },
    {
      "cell_type": "code",
      "execution_count": null,
      "metadata": {
        "colab": {
          "base_uri": "https://localhost:8080/"
        },
        "id": "epBhsChWI7gq",
        "outputId": "16502fcd-3327-411e-fad8-58e0395a343c"
      },
      "outputs": [
        {
          "name": "stdout",
          "output_type": "stream",
          "text": [
            "Pinturas: rojo, azul y amarillo + Verde: mezcla de azul y amarillo + Naranja: mezcla de rojo y amarillo + Morado: mezcla de rojo y azul\n"
          ]
        }
      ],
      "source": [
        "mezclas = ['Pinturas: rojo, azul y amarillo',\n",
        "            'Verde: mezcla de azul y amarillo',\n",
        "            'Naranja: mezcla de rojo y amarillo',\n",
        "            'Morado: mezcla de rojo y azul']\n",
        "unificador = ' + '##Puedo elegir cualquier caracter un punto, una coma, un espacio, un signo,etc\n",
        "cadena_mezclas = unificador.join(mezclas)\n",
        "print(cadena_mezclas)"
      ]
    },
    {
      "cell_type": "code",
      "execution_count": null,
      "metadata": {
        "colab": {
          "base_uri": "https://localhost:8080/"
        },
        "id": "y9EPmLGmlwnZ",
        "outputId": "734cea5c-1bb2-4ebe-829b-12fa6e154053"
      },
      "outputs": [
        {
          "data": {
            "text/plain": [
              "['Labrador Retriever',\n",
              " 'Bulldog Francés',\n",
              " 'Pastor Alemán',\n",
              " 'Golden Retriever',\n",
              " 'Poodle']"
            ]
          },
          "execution_count": 133,
          "metadata": {},
          "output_type": "execute_result"
        }
      ],
      "source": [
        "razas_de_perros = ['Labrador Retriever',\n",
        "                   'Bulldog Francés',\n",
        "                   'Pastor Alemán',\n",
        "                   'Poodle']\n",
        "\n",
        "razas_de_perros.insert(3,'Golden Retriever')\n",
        "razas_de_perros"
      ]
    },
    {
      "cell_type": "code",
      "execution_count": null,
      "metadata": {
        "colab": {
          "base_uri": "https://localhost:8080/"
        },
        "id": "DS9vkZv3occF",
        "outputId": "2a7210a8-cab0-45ca-c217-67360b4f5f10"
      },
      "outputs": [
        {
          "data": {
            "text/plain": [
              "['Labrador Retriever',\n",
              " 'Bulldog Francés',\n",
              " 'Pastor Alemán',\n",
              " 'Golden Retriever',\n",
              " 'Poodle',\n",
              " 'Chihuahua',\n",
              " 'Chihuahua',\n",
              " 'Beagle',\n",
              " 'Beagle']"
            ]
          },
          "execution_count": 137,
          "metadata": {},
          "output_type": "execute_result"
        }
      ],
      "source": [
        "razas_de_perros.insert(len(razas_de_perros),'Beagle')\n",
        "razas_de_perros"
      ]
    },
    {
      "cell_type": "code",
      "execution_count": null,
      "metadata": {
        "colab": {
          "base_uri": "https://localhost:8080/",
          "height": 35
        },
        "id": "KrP8MJVSo6C-",
        "outputId": "4e888510-4230-4d36-9935-a97bfbc25c73"
      },
      "outputs": [
        {
          "data": {
            "application/vnd.google.colaboratory.intrinsic+json": {
              "type": "string"
            },
            "text/plain": [
              "'Chihuahua'"
            ]
          },
          "execution_count": 142,
          "metadata": {},
          "output_type": "execute_result"
        }
      ],
      "source": [
        "razas_de_perros.pop(5)\n"
      ]
    },
    {
      "cell_type": "code",
      "execution_count": null,
      "metadata": {
        "colab": {
          "base_uri": "https://localhost:8080/"
        },
        "id": "yj4JxFUvpjq6",
        "outputId": "8e16e87e-e9ba-41e9-884a-671b8a52b33c"
      },
      "outputs": [
        {
          "data": {
            "text/plain": [
              "0"
            ]
          },
          "execution_count": 144,
          "metadata": {},
          "output_type": "execute_result"
        }
      ],
      "source": [
        "razas_de_perros.index('Labrador Retriever')"
      ]
    },
    {
      "cell_type": "code",
      "execution_count": null,
      "metadata": {
        "colab": {
          "base_uri": "https://localhost:8080/"
        },
        "id": "gXAonROkp-hk",
        "outputId": "765946b2-d2d2-47ac-fba9-88d7e9faed18"
      },
      "outputs": [
        {
          "data": {
            "text/plain": [
              "['Beagle',\n",
              " 'Beagle',\n",
              " 'Bulldog Francés',\n",
              " 'Chihuahua',\n",
              " 'Golden Retriever',\n",
              " 'Labrador Retriever',\n",
              " 'Pastor Alemán',\n",
              " 'Poodle']"
            ]
          },
          "execution_count": 146,
          "metadata": {},
          "output_type": "execute_result"
        }
      ],
      "source": [
        "razas_de_perros.sort()\n",
        "razas_de_perros"
      ]
    },
    {
      "cell_type": "code",
      "execution_count": null,
      "metadata": {
        "id": "6HkAa3TetjKA"
      },
      "outputs": [],
      "source": [
        "alumno = {\n",
        "    'matrícula': 2028,\n",
        "    'mes_de_registro': 'agosto',\n",
        "    'grupo_del_estudiante':'2ac'\n",
        "         }\n"
      ]
    },
    {
      "cell_type": "code",
      "execution_count": null,
      "metadata": {
        "colab": {
          "base_uri": "https://localhost:8080/",
          "height": 35
        },
        "id": "zojRm_3Hu_tz",
        "outputId": "d381a254-63b8-4dfe-c7bf-9bc98caf69e0"
      },
      "outputs": [
        {
          "data": {
            "application/vnd.google.colaboratory.intrinsic+json": {
              "type": "string"
            },
            "text/plain": [
              "'2ac'"
            ]
          },
          "execution_count": 156,
          "metadata": {},
          "output_type": "execute_result"
        }
      ],
      "source": [
        "alumno['grupo_del_estudiante']"
      ]
    },
    {
      "cell_type": "code",
      "execution_count": null,
      "metadata": {
        "colab": {
          "base_uri": "https://localhost:8080/"
        },
        "id": "pqeDNBPGvsLA",
        "outputId": "26d94736-882e-4a92-8da2-0fd440ea9c64"
      },
      "outputs": [
        {
          "data": {
            "text/plain": [
              "{'matrícula': 2028,\n",
              " 'mes_de_registro': 'agosto',\n",
              " 'grupo_del_estudiante': '2ac',\n",
              " 'modalidad de estudio': 'virtual',\n",
              " 'modalidad_de_estudio': 'virtual'}"
            ]
          },
          "execution_count": 163,
          "metadata": {},
          "output_type": "execute_result"
        }
      ],
      "source": [
        "alumno['modalidad_de_estudio']='virtual'\n",
        "alumno"
      ]
    },
    {
      "cell_type": "code",
      "execution_count": null,
      "metadata": {
        "colab": {
          "base_uri": "https://localhost:8080/"
        },
        "id": "UP9DutmM3-J1",
        "outputId": "b072d6eb-dc81-473b-a274-b99ba2fc6ca7"
      },
      "outputs": [
        {
          "data": {
            "text/plain": [
              "{'matrícula': 2028,\n",
              " 'grupo_del_estudiante': '2ac',\n",
              " 'modalidad de estudio': 'virtual',\n",
              " 'modalidad_de_estudio': 'virtual'}"
            ]
          },
          "execution_count": 164,
          "metadata": {},
          "output_type": "execute_result"
        }
      ],
      "source": [
        "alumno.pop('mes_de_registro')\n",
        "alumno"
      ]
    },
    {
      "cell_type": "code",
      "execution_count": null,
      "metadata": {
        "colab": {
          "base_uri": "https://localhost:8080/"
        },
        "id": "k4ZVs1dx4o3_",
        "outputId": "765476bb-ec0a-476f-f286-0ebe2dd08886"
      },
      "outputs": [
        {
          "data": {
            "text/plain": [
              "dict_items([('matrícula', 2028), ('grupo_del_estudiante', '2ac'), ('modalidad de estudio', 'virtual'), ('modalidad_de_estudio', 'virtual')])"
            ]
          },
          "execution_count": 165,
          "metadata": {},
          "output_type": "execute_result"
        }
      ],
      "source": [
        "alumno.items()\n"
      ]
    },
    {
      "cell_type": "code",
      "execution_count": null,
      "metadata": {
        "colab": {
          "base_uri": "https://localhost:8080/"
        },
        "id": "uLFrx_OT7T01",
        "outputId": "641cb31d-7e4b-4924-c3fa-dd6ab2310a12"
      },
      "outputs": [
        {
          "data": {
            "text/plain": [
              "dict_keys(['matrícula', 'grupo_del_estudiante', 'modalidad de estudio', 'modalidad_de_estudio'])"
            ]
          },
          "execution_count": 166,
          "metadata": {},
          "output_type": "execute_result"
        }
      ],
      "source": [
        "alumno.keys()\n"
      ]
    },
    {
      "cell_type": "code",
      "execution_count": null,
      "metadata": {
        "colab": {
          "base_uri": "https://localhost:8080/"
        },
        "id": "Sim_Gs6_7Xqn",
        "outputId": "0754197b-4fea-4d60-c5b9-64d3f983b5f8"
      },
      "outputs": [
        {
          "data": {
            "text/plain": [
              "dict_values([2028, '2ac', 'virtual', 'virtual'])"
            ]
          },
          "execution_count": 167,
          "metadata": {},
          "output_type": "execute_result"
        }
      ],
      "source": [
        "alumno.values()"
      ]
    },
    {
      "cell_type": "code",
      "execution_count": null,
      "metadata": {
        "colab": {
          "base_uri": "https://localhost:8080/"
        },
        "id": "Wh7_3ids8FEy",
        "outputId": "d4630869-12fb-4ffb-894a-0cbf924bb252"
      },
      "outputs": [
        {
          "name": "stdout",
          "output_type": "stream",
          "text": [
            "matrícula\n",
            "grupo_del_estudiante\n",
            "modalidad de estudio\n",
            "modalidad_de_estudio\n"
          ]
        }
      ],
      "source": [
        "for llave in alumno.keys():\n",
        "  print(llave)\n"
      ]
    },
    {
      "cell_type": "code",
      "execution_count": null,
      "metadata": {
        "colab": {
          "base_uri": "https://localhost:8080/"
        },
        "id": "XWiPfk248_IP",
        "outputId": "9b996dd5-c687-4f45-f174-6c60b989682f"
      },
      "outputs": [
        {
          "name": "stdout",
          "output_type": "stream",
          "text": [
            "matrícula ==> 2028\n",
            "grupo_del_estudiante ==> 2ac\n",
            "modalidad de estudio ==> virtual\n",
            "modalidad_de_estudio ==> virtual\n"
          ]
        }
      ],
      "source": [
        "for llave, valor in alumno.items():\n",
        "  print(llave, '==>', valor)"
      ]
    },
    {
      "cell_type": "code",
      "execution_count": null,
      "metadata": {
        "colab": {
          "base_uri": "https://localhost:8080/"
        },
        "id": "r_mJLODN9d80",
        "outputId": "9c80b69e-2fdc-4c67-ec35-9436ae263f7c"
      },
      "outputs": [
        {
          "name": "stdout",
          "output_type": "stream",
          "text": [
            "Clave: nombres\n",
            "Elementos:\n",
            "televisión\n",
            "celular\n",
            "notebook\n",
            "geladeira\n",
            "estufa\n",
            "Clave: precios\n",
            "Elementos:\n",
            "2000\n",
            "1500\n",
            "3500\n",
            "4000\n",
            "1500\n"
          ]
        }
      ],
      "source": [
        "tienda = {'nombres': ['televisión', 'celular', 'notebook', 'geladeira', 'estufa'],\n",
        "          'precios': [2000, 1500, 3500, 4000, 1500]}\n",
        "\n",
        "for clave, elementos in tienda.items():\n",
        "  print(f'Clave: {clave}\\nElementos:')\n",
        "  for dato in elementos:\n",
        "    print(dato)\n",
        "\n",
        "\n"
      ]
    },
    {
      "cell_type": "code",
      "execution_count": null,
      "metadata": {
        "colab": {
          "base_uri": "https://localhost:8080/"
        },
        "id": "v1aqJxSG-LQJ",
        "outputId": "1f364e6c-39df-45d3-9bca-db0452243e3b"
      },
      "outputs": [
        {
          "name": "stdout",
          "output_type": "stream",
          "text": [
            "El producto televisión cuesta 2000 pesos.\n",
            "El producto celular cuesta 1500 pesos.\n",
            "El producto notebook cuesta 3500 pesos.\n",
            "El producto geladeira cuesta 4000 pesos.\n",
            "El producto estufa cuesta 1500 pesos.\n"
          ]
        }
      ],
      "source": [
        "nombres = ['televisión', 'celular', 'notebook', 'geladeira', 'estufa']\n",
        "precios = [2000, 1500, 3500, 4000, 1500]\n",
        "\n",
        "for nombre, precio in zip(nombres, precios):\n",
        "    print(f'El producto {nombre} cuesta {precio} pesos.')"
      ]
    },
    {
      "cell_type": "code",
      "execution_count": null,
      "metadata": {
        "colab": {
          "base_uri": "https://localhost:8080/"
        },
        "id": "Qo6le-_eEal8",
        "outputId": "d068cca8-f5e8-4c8c-c59c-a16824848d38"
      },
      "outputs": [
        {
          "data": {
            "text/plain": [
              "12500"
            ]
          },
          "execution_count": 187,
          "metadata": {},
          "output_type": "execute_result"
        }
      ],
      "source": [
        "precios = [2000, 1500, 3500, 4000, 1500]\n",
        "sum(precios)"
      ]
    },
    {
      "cell_type": "code",
      "execution_count": null,
      "metadata": {
        "colab": {
          "base_uri": "https://localhost:8080/"
        },
        "id": "Xeo73FSNFTc0",
        "outputId": "d5c64f1a-d4a3-4646-9066-203d1b10f017"
      },
      "outputs": [
        {
          "data": {
            "text/plain": [
              "['__add__',\n",
              " '__class__',\n",
              " '__class_getitem__',\n",
              " '__contains__',\n",
              " '__delattr__',\n",
              " '__delitem__',\n",
              " '__dir__',\n",
              " '__doc__',\n",
              " '__eq__',\n",
              " '__format__',\n",
              " '__ge__',\n",
              " '__getattribute__',\n",
              " '__getitem__',\n",
              " '__getstate__',\n",
              " '__gt__',\n",
              " '__hash__',\n",
              " '__iadd__',\n",
              " '__imul__',\n",
              " '__init__',\n",
              " '__init_subclass__',\n",
              " '__iter__',\n",
              " '__le__',\n",
              " '__len__',\n",
              " '__lt__',\n",
              " '__mul__',\n",
              " '__ne__',\n",
              " '__new__',\n",
              " '__reduce__',\n",
              " '__reduce_ex__',\n",
              " '__repr__',\n",
              " '__reversed__',\n",
              " '__rmul__',\n",
              " '__setattr__',\n",
              " '__setitem__',\n",
              " '__sizeof__',\n",
              " '__str__',\n",
              " '__subclasshook__',\n",
              " 'append',\n",
              " 'clear',\n",
              " 'copy',\n",
              " 'count',\n",
              " 'extend',\n",
              " 'index',\n",
              " 'insert',\n",
              " 'pop',\n",
              " 'remove',\n",
              " 'reverse',\n",
              " 'sort']"
            ]
          },
          "execution_count": 189,
          "metadata": {},
          "output_type": "execute_result"
        }
      ],
      "source": [
        "precios = [2000, 1500, 3500, 4000, 1500]\n",
        "dir(precios)"
      ]
    },
    {
      "cell_type": "code",
      "execution_count": null,
      "metadata": {
        "colab": {
          "base_uri": "https://localhost:8080/"
        },
        "id": "Yp6x4tfSEeRd",
        "outputId": "02d26fda-fe0b-4850-d08a-842a18e2b23e"
      },
      "outputs": [
        {
          "name": "stdout",
          "output_type": "stream",
          "text": [
            "Help on built-in function print in module builtins:\n",
            "\n",
            "print(*args, sep=' ', end='\\n', file=None, flush=False)\n",
            "    Prints the values to a stream, or to sys.stdout by default.\n",
            "    \n",
            "    sep\n",
            "      string inserted between values, default a space.\n",
            "    end\n",
            "      string appended after the last value, default a newline.\n",
            "    file\n",
            "      a file-like object (stream); defaults to the current sys.stdout.\n",
            "    flush\n",
            "      whether to forcibly flush the stream.\n",
            "\n"
          ]
        }
      ],
      "source": [
        "help(print)"
      ]
    },
    {
      "cell_type": "markdown",
      "metadata": {
        "id": "vRApo9JXGW2y"
      },
      "source": []
    },
    {
      "cell_type": "markdown",
      "metadata": {
        "id": "2Jtbos1fGhMN"
      },
      "source": []
    },
    {
      "cell_type": "code",
      "execution_count": null,
      "metadata": {
        "colab": {
          "base_uri": "https://localhost:8080/"
        },
        "id": "w-zv03dKGXF9",
        "outputId": "b93df34d-b91c-485d-b9fa-3351e5cb74a6"
      },
      "outputs": [
        {
          "name": "stdout",
          "output_type": "stream",
          "text": [
            "La suma de gastos es 31442.22\n",
            "3144.222\n",
            "El promedio de gastos es 3144.222\n"
          ]
        }
      ],
      "source": [
        "## 1 - Crea un programa que tenga la siguiente lista con los gastos de una empresa de papel [2172.54, 3701.35, 3518.09, 3456.61, 3249.38, 2840.82, 3891.45, 3075.26, 2317.64, 3219.08]. Con estos valores, crea un programa que calcule el promedio de gastos.\n",
        "## Sugerencia: usa las funciones integradas sum() y len().\n",
        "\n",
        "gastos_empresas = [2172.54, 3701.35, 3518.09, 3456.61, 3249.38, 2840.82, 3891.45, 3075.26, 2317.64, 3219.08]\n",
        "sum(gastos_empresas)\n",
        "print(f'La suma de gastos es {sum(gastos_empresas)}')\n",
        "\n",
        "promedio_gastos = sum(gastos_empresas)/len(gastos_empresas)\n",
        "print(promedio_gastos)\n",
        "print(f'El promedio de gastos es {promedio_gastos}')\n"
      ]
    },
    {
      "cell_type": "code",
      "execution_count": null,
      "metadata": {
        "colab": {
          "base_uri": "https://localhost:8080/"
        },
        "id": "Z7mPvRPfH6Oz",
        "outputId": "74687ebd-ad1c-46a6-d2f7-d5e4ded42b5d"
      },
      "outputs": [
        {
          "name": "stdout",
          "output_type": "stream",
          "text": [
            "Hubo 7 compras que estuvieron por encima de R$3000,00.\n",
            "El 76.68% de los gastos estuvieron por encima de R$3000,00.\n"
          ]
        }
      ],
      "source": [
        "## 2 - Con los mismos datos de la pregunta anterior,\n",
        "## determina cuántas compras se realizaron por encima de 3000 reales y\n",
        "## calcula el porcentaje con respecto al total de compras.\n",
        "\n",
        "gastos = [2172.54, 3701.35, 3518.09, 3456.61, 3249.38, 2840.82, 3891.45, 3075.26, 2317.64, 3219.08]\n",
        "compras_mayores_3000 = [gasto for gasto in gastos if gasto > 3000]\n",
        "len(compras_mayores_3000)\n",
        "print(f'Hubo {len(compras_mayores_3000)} compras que estuvieron por encima de R$3000,00.')\n",
        "\n",
        "\n",
        "total_gastos = sum(gastos)\n",
        "total_compras_mayores_3000 = sum(compras_mayores_3000)\n",
        "porcentaje_compras_mayores_3000 = (total_compras_mayores_3000 / total_gastos) * 100\n",
        "\n",
        "\n",
        "print(f'El {porcentaje_compras_mayores_3000:.2f}% de los gastos estuvieron por encima de R$3000,00.')\n",
        "\n"
      ]
    },
    {
      "cell_type": "code",
      "execution_count": null,
      "metadata": {
        "colab": {
          "base_uri": "https://localhost:8080/"
        },
        "id": "uOGxxqmbwxRJ",
        "outputId": "42fb34e0-4fe7-456d-f435-8240bbb74e68"
      },
      "outputs": [
        {
          "name": "stdout",
          "output_type": "stream",
          "text": [
            "[84, 14, 70, 46, 71]\n"
          ]
        }
      ],
      "source": [
        "##3 - Crea un código que recoja en una lista 5 números enteros aleatorios e imprima la lista.\n",
        "## Ejemplo: [1, 4, 7, 2, 4].\n",
        "\n",
        "\n",
        "import random\n",
        "\n",
        "lista_numeros_aleatorios = []\n",
        "\n",
        "for _ in range(5):\n",
        "    numero_aleatorio= random.randint(1,100)  # puedes cambiar el rango si lo deseas\n",
        "    lista_numeros_aleatorios.append(numero_aleatorio)\n",
        "\n",
        "print(lista_numeros_aleatorios)\n",
        "\n",
        "\n"
      ]
    },
    {
      "cell_type": "code",
      "execution_count": null,
      "metadata": {
        "colab": {
          "base_uri": "https://localhost:8080/"
        },
        "id": "uMP_2Wpq_6it",
        "outputId": "0537e688-d0f0-4445-d4ed-e906244fdfac"
      },
      "outputs": [
        {
          "name": "stdout",
          "output_type": "stream",
          "text": [
            "Lista original: [71, 88, 25, 86, 11]\n",
            "Lista en orden inverso: [11, 86, 25, 88, 71]\n"
          ]
        }
      ],
      "source": [
        "##Recoge nuevamente 5 números enteros e imprime la lista en orden inverso al enviado.\n",
        "\n",
        "import random\n",
        "\n",
        "lista_numeros_aleatorios = []\n",
        "\n",
        "for _ in range(5):\n",
        "    numero_aleatorio= random.randint(1,100)\n",
        "    lista_numeros_aleatorios.append(numero_aleatorio)\n",
        "\n",
        "print(\"Lista original:\", lista_numeros_aleatorios)\n",
        "print(\"Lista en orden inverso:\", list(reversed(lista_numeros_aleatorios)))"
      ]
    },
    {
      "cell_type": "code",
      "execution_count": null,
      "metadata": {
        "colab": {
          "base_uri": "https://localhost:8080/"
        },
        "id": "lffgxFl7HxrF",
        "outputId": "02275049-c6ee-43f0-ebab-3037a0734c42"
      },
      "outputs": [
        {
          "name": "stdout",
          "output_type": "stream",
          "text": [
            "Ingrese un número: 50\n",
            "Los números primos entre 1 y 50 son: [50]\n",
            "Los números primos entre 1 y 50 son: [50]\n",
            "Los números primos entre 1 y 50 son: [50]\n",
            "Los números primos entre 1 y 50 son: [50]\n",
            "Los números primos entre 1 y 50 son: [50]\n",
            "Los números primos entre 1 y 50 son: [50]\n",
            "Los números primos entre 1 y 50 son: [50]\n",
            "Los números primos entre 1 y 50 son: [50]\n",
            "Los números primos entre 1 y 50 son: [50]\n",
            "Los números primos entre 1 y 50 son: [50]\n",
            "Los números primos entre 1 y 50 son: [50]\n",
            "Los números primos entre 1 y 50 son: [50]\n",
            "Los números primos entre 1 y 50 son: [50]\n",
            "Los números primos entre 1 y 50 son: [50]\n",
            "Los números primos entre 1 y 50 son: [50]\n",
            "Los números primos entre 1 y 50 son: [50]\n",
            "Los números primos entre 1 y 50 son: [50]\n",
            "Los números primos entre 1 y 50 son: [50]\n",
            "Los números primos entre 1 y 50 son: [50]\n",
            "Los números primos entre 1 y 50 son: [50]\n",
            "Los números primos entre 1 y 50 son: [50]\n",
            "Los números primos entre 1 y 50 son: [50]\n",
            "Los números primos entre 1 y 50 son: [50]\n",
            "Los números primos entre 1 y 50 son: [50]\n",
            "Los números primos entre 1 y 50 son: [50]\n",
            "Los números primos entre 1 y 50 son: [50]\n",
            "Los números primos entre 1 y 50 son: [50]\n",
            "Los números primos entre 1 y 50 son: [50]\n",
            "Los números primos entre 1 y 50 son: [50]\n",
            "Los números primos entre 1 y 50 son: [50]\n",
            "Los números primos entre 1 y 50 son: [50]\n",
            "Los números primos entre 1 y 50 son: [50]\n",
            "Los números primos entre 1 y 50 son: [50]\n",
            "Los números primos entre 1 y 50 son: [50]\n",
            "Los números primos entre 1 y 50 son: [50]\n",
            "Los números primos entre 1 y 50 son: [50]\n",
            "Los números primos entre 1 y 50 son: [50]\n",
            "Los números primos entre 1 y 50 son: [50]\n",
            "Los números primos entre 1 y 50 son: [50]\n",
            "Los números primos entre 1 y 50 son: [50]\n",
            "Los números primos entre 1 y 50 son: [50]\n",
            "Los números primos entre 1 y 50 son: [50]\n",
            "Los números primos entre 1 y 50 son: [50]\n",
            "Los números primos entre 1 y 50 son: [50]\n",
            "Los números primos entre 1 y 50 son: [50]\n",
            "Los números primos entre 1 y 50 son: [50]\n",
            "Los números primos entre 1 y 50 son: [50]\n",
            "Los números primos entre 1 y 50 son: [50]\n",
            "Los números primos entre 1 y 50 son: [50]\n",
            "Los números primos entre 1 y 50 son: [50]\n",
            "Los números primos entre 1 y 50 son: [50]\n"
          ]
        }
      ],
      "source": [
        "## 5 - Crea un programa que, al ingresar un número cualquiera,#genere una lista que contenga todos los números primos entre 1 y el número ingresado.\n",
        "\n",
        "lista_numero_primos = []\n",
        "\n",
        "numero_usuario = int(input(\"Ingrese un número: \"))\n",
        "lista_numero_primos.append(numero_usuario)\n",
        "\n",
        "for numero in range(0, numero_usuario + 1):\n",
        "  print(f'Los números primos entre 1 y {numero_usuario} son: {lista_numero_primos}')"
      ]
    },
    {
      "cell_type": "code",
      "execution_count": null,
      "metadata": {
        "colab": {
          "base_uri": "https://localhost:8080/"
        },
        "id": "lKemy6AGL3HJ",
        "outputId": "901d02d5-3da8-4a8f-a935-e84ea38250bd"
      },
      "outputs": [
        {
          "name": "stdout",
          "output_type": "stream",
          "text": [
            "Ingrese un número: 10\n",
            "Los números primos entre 1 y 10 son: [2, 3, 5, 7]\n"
          ]
        }
      ],
      "source": [
        "## 5 - Crea un programa que, al ingresar un número cualquiera,genere una lista que contenga todos los números primos entre 1 y el número ingresado.\n",
        "\n",
        "lista_numeros_primos = []\n",
        "\n",
        "numero_usuario = int(input(\"Ingrese un número: \"))\n",
        "\n",
        "for numero in range(2, numero_usuario + 1):\n",
        "    es_primo = True\n",
        "    for divisor in range(2, int(numero ** 0.5) + 1):\n",
        "        if numero % divisor == 0:\n",
        "                 es_primo = False\n",
        "                 break\n",
        "    if es_primo:\n",
        "        lista_numeros_primos.append(numero)\n",
        "\n",
        "\n",
        "print(f'Los números primos entre 1 y {numero_usuario} son: {lista_numeros_primos}')\n",
        "\n"
      ]
    },
    {
      "cell_type": "code",
      "execution_count": null,
      "metadata": {
        "colab": {
          "base_uri": "https://localhost:8080/"
        },
        "id": "WoFc7tzi82Zi",
        "outputId": "460960ad-c18d-47bb-e5fc-9c148a4b268f"
      },
      "outputs": [
        {
          "name": "stdout",
          "output_type": "stream",
          "text": [
            "2025-05-11\n",
            "2025-05-11 15:31:36.685086\n"
          ]
        }
      ],
      "source": [
        "##Crear un programa que pida la fecha y ver que esa fecha sea válida\n",
        "\n",
        "from datetime import date\n",
        "from datetime import datetime\n",
        "\n",
        "fecha_actual = date.today()\n",
        "print(fecha_actual)\n",
        "\n",
        "hora_actual = datetime.now()\n",
        "print(hora_actual)"
      ]
    },
    {
      "cell_type": "code",
      "execution_count": null,
      "metadata": {
        "colab": {
          "base_uri": "https://localhost:8080/"
        },
        "id": "tbbEScdu-TLg",
        "outputId": "2a745751-7422-48e3-b23a-6d41fc24a405"
      },
      "outputs": [
        {
          "name": "stdout",
          "output_type": "stream",
          "text": [
            "Ingrese una fecha según el formato día/mes/año: 2099/4/4\n",
            "La fecha no es válida\n"
          ]
        }
      ],
      "source": [
        "##  Escribe un programa que pida una fecha, especificando el día, mes y año, y determine si es válida para su análisis.\n",
        "\n",
        "from datetime import datetime\n",
        "\n",
        "fecha_usuario = input('Ingrese una fecha según el formato día/mes/año: ')\n",
        "formatos_validos = ['%d/%m/%Y', '%d-%m-%Y',]\n",
        "\n",
        "fecha = None\n",
        "\n",
        "for formato in formatos_validos:\n",
        "    try:\n",
        "        fecha = datetime.strptime(fecha_usuario, formato)\n",
        "        print('La fecha es válida para su análisis')\n",
        "        break\n",
        "    except ValueError:\n",
        "        pass\n",
        "\n",
        "\n",
        "\n",
        "if fecha is None:\n",
        "    print('La fecha no es válida')"
      ]
    },
    {
      "cell_type": "code",
      "execution_count": null,
      "metadata": {
        "colab": {
          "base_uri": "https://localhost:8080/"
        },
        "id": "w8EXZU6NcI0K",
        "outputId": "5ed5b4da-c8e3-4631-e677-e0d0b21da7fa"
      },
      "outputs": [
        {
          "name": "stdout",
          "output_type": "stream",
          "text": [
            "El porcentaje de crecimiento por día  es 75.00\n",
            "El porcentaje de crecimiento por día  es 57.14\n",
            "El porcentaje de crecimiento por día  es 51.52\n",
            "El porcentaje de crecimiento por día  es 56.00\n",
            "El porcentaje de crecimiento por día  es 44.87\n",
            "El porcentaje de crecimiento por día  es 46.90\n",
            "El porcentaje de crecimiento por día  es 51.20\n",
            "El porcentaje de crecimiento por día  es 50.60\n",
            "El porcentaje de crecimiento por día  es 50.53\n"
          ]
        }
      ],
      "source": [
        "##7 - Para un estudio sobre la multiplicación de bacterias en una colonia,\n",
        "##se recopiló el número de bacterias multiplicadas por día y se pudo observar lo siguiente:\n",
        "##[1.2, 2.1, 3.3, 5.0, 7.8, 11.3, 16.6, 25.1, 37.8, 56.9].\n",
        "##Con estos valores, crea un código que genere una lista que contenga\n",
        "##el porcentaje de crecimiento bacteriano por día, comparando el número de bacterias de cada\n",
        "## día con el número de bacterias del día anterior.\n",
        "##Sugerencia: para calcular el porcentaje de crecimiento,\n",
        "##utilice la siguiente ecuación: 100 * (tasa_actual - tasa_anterior) / tasa_anterior.\n",
        "\n",
        "lista_porcentaje_crecimiento = []\n",
        "lista_diaria_de_bacterias = [1.2, 2.1, 3.3, 5.0, 7.8, 11.3, 16.6, 25.1, 37.8, 56.9]\n",
        "\n",
        "tasa_anterior = lista_diaria_de_bacterias[0]\n",
        "lista_porcentaje_crecimiento.append(0)\n",
        "\n",
        "\n",
        "for tasa_actual in lista_diaria_de_bacterias[1:]:\n",
        "    porcentaje_crecimiento = 100 * (tasa_actual - tasa_anterior) / tasa_anterior\n",
        "    lista_porcentaje_crecimiento.append(porcentaje_crecimiento)\n",
        "    tasa_anterior = tasa_actual\n",
        "    print(f'El porcentaje de crecimiento por día  es {porcentaje_crecimiento:.2f}')"
      ]
    },
    {
      "cell_type": "code",
      "execution_count": null,
      "metadata": {
        "colab": {
          "base_uri": "https://localhost:8080/"
        },
        "id": "2CqcYPXC0qmQ",
        "outputId": "a2753a86-5cf2-48e6-a49e-ee34c8c04439"
      },
      "outputs": [
        {
          "name": "stdout",
          "output_type": "stream",
          "text": [
            "Ingrese el ID del producto: 567\n",
            "Ingrese el ID del producto: 567\n",
            "Ingrese el ID del producto: 566\n",
            "Ingrese el ID del producto: 566\n",
            "Ingrese el ID del producto: 234\n",
            "Ingrese el ID del producto: 543\n",
            "Ingrese el ID del producto: 1243\n",
            "Ingrese el ID del producto: 456\n",
            "Ingrese el ID del producto: 908\n",
            "Ingrese el ID del producto: 567\n",
            "La cantidad de productos dulces es: 5\n",
            "La cantidad de productos amargos es: 5\n"
          ]
        }
      ],
      "source": [
        "##8 - Para una selección de productos alimenticios, debemos separar el conjunto de IDs\n",
        "## proporcionados por números enteros, sabiendo que los productos con ID par\n",
        "##son dulces y los que tienen ID impar son amargos.\n",
        "##Crea un código que recoja 10 IDs.\n",
        "##Luego, calcula y muestra la cantidad de productos dulces y amargos.\n",
        "\n",
        "\n",
        "productos_dulces = 0\n",
        "productos_amargos = 0\n",
        "\n",
        "for _ in range(10):\n",
        "    id_producto = int(input(\"Ingrese el ID del producto: \"))\n",
        "    if id_producto % 2 == 0:\n",
        "        productos_dulces += 1\n",
        "    else:\n",
        "        productos_amargos += 1\n",
        "        productos_amargos.as_integer_ratio\n",
        "        productos_dulces.as_integer_ratio\n",
        "\n",
        "print(f'La cantidad de productos dulces es: {productos_dulces.as_integer_ratio}')\n",
        "print(f'La cantidad de productos amargos es: {productos_amargos.as_integer_ratio}')"
      ]
    },
    {
      "cell_type": "code",
      "execution_count": null,
      "metadata": {
        "colab": {
          "background_save": true,
          "base_uri": "https://localhost:8080/"
        },
        "id": "zPutSdgt5Z8U",
        "outputId": "e00aba2e-f6e4-4af3-db7b-da3897aeded1"
      },
      "outputs": [
        {
          "name": "stdout",
          "output_type": "stream",
          "text": [
            "La respuesta es incorrecta\n",
            "La respuesta es incorrecta\n"
          ]
        }
      ],
      "source": [
        "##9 - Desarrolla un programa que informe la puntuación de un estudiante de acuerdo\n",
        "## con sus respuestas.Debe pedir la respuesta del estudiante para cada pregunta y\n",
        "## verificar si la respuesta coincide con el resultado.\n",
        "## Cada pregunta vale un punto y hay opciones A, B, C o D.\n",
        "##Resultado del examen:\n",
        "#01 - D\n",
        "#02 - A\n",
        "#03 - C\n",
        "#04 - B\n",
        "#05 - A\n",
        "#06 - D\n",
        "#07 - C\n",
        "#08 - C\n",
        "#09 - A\n",
        "#10 - B\n",
        "\n",
        "\n",
        "resultados_examen = ['D', 'A', 'C', 'B', 'A','D','C','C','A','B']\n",
        "\n",
        "contador = 0\n",
        "for i in range(10):\n",
        "  respuestas_estudiante = input(f'Ingresa su respuesta para la pregunta {i+1} (A,B,C o D): ').upper()\n",
        "  if respuestas_estudiante == resultados_examen[i]:\n",
        "      contador += 1\n",
        "  else:\n",
        "      print('La respuesta es incorrecta')\n",
        "\n",
        "print(f'La calificación del estudiante es {contador}')\n",
        "\n",
        "\n",
        "\n"
      ]
    },
    {
      "cell_type": "markdown",
      "metadata": {
        "id": "CaoXwapTDhWP"
      },
      "source": []
    },
    {
      "cell_type": "code",
      "execution_count": null,
      "metadata": {
        "id": "tzsP9f0iDijS",
        "colab": {
          "base_uri": "https://localhost:8080/"
        },
        "outputId": "b67b9531-7558-4223-d739-534a9421779e"
      },
      "outputs": [
        {
          "output_type": "stream",
          "name": "stdout",
          "text": [
            "Ingrese la temperatura media del mes de enero:10.5\n",
            "Ingrese la temperatura media del mes de febrero:10.5\n",
            "Ingrese la temperatura media del mes de marzo:10.5\n",
            "Ingrese la temperatura media del mes de abril:10.5\n",
            "Ingrese la temperatura media del mes de mayo:15\n",
            "Ingrese la temperatura media del mes de junio:15\n",
            "Ingrese la temperatura media del mes de julio:15\n",
            "Ingrese la temperatura media del mes de agosto:15\n",
            "Ingrese la temperatura media del mes de septiembre:20\n",
            "Ingrese la temperatura media del mes de octubre:25\n",
            "Ingrese la temperatura media del mes de noviembre:30\n",
            "Ingrese la temperatura media del mes de diciembre:35\n",
            "El promedio anual de las temperaturas es 17.67\n",
            "\n",
            "Temperaturas por encima del promedio anual:\n",
            "septiembre: 20.00\n",
            "octubre: 25.00\n",
            "noviembre: 30.00\n",
            "diciembre: 35.00\n"
          ]
        }
      ],
      "source": [
        "##10- Un instituto de meteorología desea realizar un estudio de la temperatura\n",
        "## media de cada mes del año. Para ello, debes crear un código que recoja\n",
        "##y almacene esas temperaturas medias en una lista.\n",
        "##Luego, calcula el promedio anual de las temperaturas y muestra todas las temperaturas\n",
        "## por encima del promedio anual  y en qué mes ocurrieron,\n",
        "##mostrando los meses por su nombre (Enero, Febrero, etc.).\n",
        "\n",
        "\n",
        "temperaturas_medias = []\n",
        "nombres_meses = ['enero', 'febrero', 'marzo', 'abril', 'mayo', 'junio', 'julio', 'agosto', 'septiembre', 'octubre', 'noviembre', 'diciembre']\n",
        "\n",
        "# Bucle para recoger la temperatura de cada mes\n",
        "for i in range(len(nombres_meses)):\n",
        "    # Solicitar la temperatura para el mes actual y convertirla a float\n",
        "    temperatura_mes_str = input(f'Ingrese la temperatura media del mes de {nombres_meses[i]}:')\n",
        "    # Reemplazar la coma por un punto para asegurar la correcta conversión a float\n",
        "    temperatura_mes_str = temperatura_mes_str.replace(',', '.')\n",
        "    try:\n",
        "        temperatura_mes = float(temperatura_mes_str)\n",
        "        temperaturas_medias.append(temperatura_mes)\n",
        "    except ValueError:\n",
        "        print(f\"Entrada inválida para {nombres_meses[i]}. Por favor, ingrese un número.\")\n",
        "        # Puedes manejar este error de otra forma si lo deseas, como salir o pedir de nuevo.\n",
        "        # Para este ejemplo, continuaremos y la lista podría no tener 12 elementos.\n",
        "        # Una mejor práctica sería implementar un bucle while para validar la entrada.\n",
        "\n",
        "\n",
        "# Calcular el promedio anual solo si se han ingresado temperaturas\n",
        "if temperaturas_medias:\n",
        "    promedio_anual_temperatura = sum(temperaturas_medias) / len(temperaturas_medias)\n",
        "    print(f'El promedio anual de las temperaturas es {promedio_anual_temperatura:.2f}') # Formatear a 2 decimales\n",
        "\n",
        "    # Mostrar temperaturas por encima del promedio\n",
        "    print(\"\\nTemperaturas por encima del promedio anual:\")\n",
        "    for i in range(len(temperaturas_medias)):\n",
        "        if temperaturas_medias[i] > promedio_anual_temperatura:\n",
        "            print(f'{nombres_meses[i]}: {temperaturas_medias[i]:.2f}')\n",
        "else:\n",
        "    print(\"No se ingresaron temperaturas para calcular el promedio.\")\n",
        "\n",
        "\n",
        "\n"
      ]
    },
    {
      "cell_type": "code",
      "execution_count": null,
      "metadata": {
        "id": "fPQE3SxxDgEr",
        "colab": {
          "base_uri": "https://localhost:8080/"
        },
        "outputId": "9026c158-4611-40b5-99cb-210386ac8311"
      },
      "outputs": [
        {
          "output_type": "stream",
          "name": "stdout",
          "text": [
            "El total de ventas es 920\n",
            "El producto más vendido es Producto A con 300 unidades vendidas\n"
          ]
        }
      ],
      "source": [
        "##11 - Una empresa de comercio electrónico está interesada en analizar las ventas de sus productos. Los datos de ventas se han almacenado en un diccionario:\n",
        "##{'Producto A': 300, 'Producto B': 80, 'Producto C': 60, 'Producto D': 200, 'Producto E': 250, 'Producto F': 30}\n",
        "##Escribe un código que calcule el total de ventas y el producto más vendido.\n",
        "\n",
        "ventas_comercio_electronico = {'Producto A': 300, 'Producto B': 80, 'Producto C': 60, 'Producto D': 200, 'Producto E': 250, 'Producto F': 30}\n",
        "\n",
        "total_ventas = sum(ventas_comercio_electronico.values())\n",
        "print(f'El total de ventas es {total_ventas}')\n",
        "\n",
        "producto_mas_vendido = max(ventas_comercio_electronico, key=ventas_comercio_electronico.get)\n",
        "cantidad_mas_vendida = ventas_comercio_electronico[producto_mas_vendido]\n",
        "print(f'El producto más vendido es {producto_mas_vendido} con {cantidad_mas_vendida} unidades vendidas')\n",
        "\n"
      ]
    },
    {
      "cell_type": "code",
      "source": [
        "##12 - Se realizó una encuesta de mercado para decidir cuál diseño de marca infantil es más atractivo para los niños. Los votos de la encuesta se pueden ver a continuación:\n",
        "##Tabla de votos de la marca\n",
        "## Diseño 1 - 1334 votos\n",
        "## Diseño 2 - 982 votos\n",
        "## Diseño 3 - 1751 votos\n",
        "## Diseño 4 - 210 votos\n",
        "## Diseño 5 - 1811 votos\n",
        "\n",
        "##Adapta los datos proporcionados a una estructura de diccionario. A partir de ello, informa el diseño ganador y el porcentaje de votos recibidos.\n",
        "\n",
        "votos_diseño = {'Diseño 1': 1334, 'Diseño 2': 982, 'Diseño 3': 1751, 'Diseño 4': 210, 'Diseño 5': 1811}\n",
        "\n",
        "ganador_diseño = max(votos_diseño, key=votos_diseño.get)\n",
        "total_votos = sum(votos_diseño.values())\n",
        "porcentaje_ganador = (votos_diseño[ganador_diseño] / total_votos) * 100\n",
        "print(f'El diseño ganador es {ganador_diseño} con el {porcentaje_ganador:.2f}% de los votos')"
      ],
      "metadata": {
        "colab": {
          "base_uri": "https://localhost:8080/"
        },
        "id": "FjY89ONPr2P-",
        "outputId": "3767422e-71a2-4815-c5a3-0259a762684d"
      },
      "execution_count": null,
      "outputs": [
        {
          "output_type": "stream",
          "name": "stdout",
          "text": [
            "El diseño ganador es Diseño 5 con el 29.75% de los votos\n"
          ]
        }
      ]
    },
    {
      "cell_type": "code",
      "source": [
        "##Los empleados de un departamento de tu empresa recibirán una bonificación del 10% de su salario\n",
        "##debido a un excelente rendimiento del equipo. El departamento de finanzas ha solicitado tu ayuda para\n",
        "##verificar las consecuencias financieras de esta bonificación en los recursos.\n",
        "##Se te ha enviado una lista con los salarios que recibirán la bonificación: [1172, 1644, 2617, 5130, 5532, 6341, 6650, 7238, 7685, 7782, 7903].\n",
        "## La bonificación de cada empleado no puede ser inferior a 200.\n",
        "## En el código, convierte cada uno de los salarios en claves de un diccionario y\n",
        "## la bonificación de cada salario en el valor correspondiente.\n",
        "## Luego, informa el gasto total en bonificaciones, cuántos empleados recibieron la bonificación mínima\n",
        " ## y cuál fue el valor más alto de la bonificación proporcionada.\n",
        "\n",
        "lista_de_salarios = [1172, 1644, 2617, 5130, 5532, 6341, 6650, 7238, 7685, 7782, 7903]\n",
        "\n",
        "bonificaciones = {}\n",
        "\n",
        "for salario in lista_de_salarios:\n",
        "    bonificacion = max(salario * 0.1, 200)\n",
        "\n",
        "    bonificaciones[salario] = bonificacion\n",
        "\n",
        "gasto_total_bonificaciones = sum(bonificaciones.values())\n",
        "print(f'El gasto total en bonificaciones es {gasto_total_bonificaciones}')\n",
        "\n",
        "empleados_minima_bonificacion = sum(1 for bonificacion in bonificaciones.values() if bonificacion == 200)\n",
        "print(f'Los empleados que recibieron la bonificación mínima son {empleados_minima_bonificacion}')\n",
        "\n",
        "valor_max_bonificacion = max(bonificaciones.values())\n",
        "print(f'El valor más alto de la bonificación proporcionada es {valor_max_bonificacion:.2f}')\n"
      ],
      "metadata": {
        "colab": {
          "base_uri": "https://localhost:8080/"
        },
        "id": "YgKkSJd0tTGl",
        "outputId": "cefd863b-1c27-4df5-c056-f69cb0db935f"
      },
      "execution_count": null,
      "outputs": [
        {
          "output_type": "stream",
          "name": "stdout",
          "text": [
            "El gasto total en bonificaciones es 6087.8\n",
            "Los empleados que recibieron la bonificación mínima son 2\n",
            "El valor más alto de la bonificación proporcionada es 790.30\n"
          ]
        }
      ]
    },
    {
      "cell_type": "code",
      "source": [
        "##14 - Un equipo de científicos de datos está estudiando la diversidad biológica en un bosque.\n",
        "## El equipo recopiló información sobre el número de especies de plantas y animales en cada área del bosque\n",
        "##y almacenó estos datos en un diccionario. En él, la clave describe el área de los datos y los valores\n",
        "## en las listas corresponden a las especies de plantas y animales en esas áreas, respectivamente.\n",
        "##{'Área Norte': [2819, 7236], 'Área Leste': [1440, 9492], 'Área Sul': [5969, 7496],\n",
        "##'Área Oeste': [14446, 49688], 'Área Centro': [22558, 45148]}\n",
        "\n",
        "\n",
        "area_de_estudio = {\n",
        "    'Área Norte': [2819, 7236],\n",
        "    'Área Leste': [1440, 9492],\n",
        "    'Área Sul': [5969, 7496],\n",
        "    'Área Oeste': [14446, 49688],\n",
        "    'Área Centro': [22558, 45148]\n",
        "                  }\n",
        "\n",
        "\n",
        "for area, datos in area_de_estudio.items():\n",
        "    plantas, animales = datos\n",
        "    total = plantas + animales\n",
        "    print(f\"En {area} encontramos {plantas} plantas y {animales} animales. El total es {total}.\")\n",
        "\n",
        ""
      ],
      "metadata": {
        "id": "3iTNptrXvmFX",
        "colab": {
          "base_uri": "https://localhost:8080/"
        },
        "outputId": "975bfdaf-2365-45a8-cf2f-187eaad513ae"
      },
      "execution_count": 17,
      "outputs": [
        {
          "output_type": "stream",
          "name": "stdout",
          "text": [
            "En Área Norte encontramos 2819 plantas y 7236 animales. El total es 10055.\n",
            "En Área Leste encontramos 1440 plantas y 9492 animales. El total es 10932.\n",
            "En Área Sul encontramos 5969 plantas y 7496 animales. El total es 13465.\n",
            "En Área Oeste encontramos 14446 plantas y 49688 animales. El total es 64134.\n",
            "En Área Centro encontramos 22558 plantas y 45148 animales. El total es 67706.\n"
          ]
        }
      ]
    },
    {
      "cell_type": "code",
      "source": [
        "total_plantas = 0\n",
        "total_animales = 0\n",
        "\n",
        "for datos in area_de_estudio.values():\n",
        "    plantas, animales = datos\n",
        "    total_plantas += plantas\n",
        "    total_animales += animales\n",
        "\n",
        "print(f\"El total de especies de plantas en el área de estudio es {total_plantas}.\")\n",
        "print(f\"El total de especies de animales en el área de estudio es {total_animales}.\")"
      ],
      "metadata": {
        "colab": {
          "base_uri": "https://localhost:8080/"
        },
        "id": "PwcGV3GVePM_",
        "outputId": "7daf72b3-7ab7-4f68-ef61-2ff843d4be1a"
      },
      "execution_count": 18,
      "outputs": [
        {
          "output_type": "stream",
          "name": "stdout",
          "text": [
            "El total de especies de plantas en el área de estudio es 47232.\n",
            "El total de especies de animales en el área de estudio es 119060.\n"
          ]
        }
      ]
    },
    {
      "cell_type": "code",
      "source": [
        "##Escribe un código para calcular el promedio de especies por área e identificar el área con la mayor diversidad biológica.\n",
        "##Sugerencia: utiliza las funciones incorporadas sum() y len().\n",
        "\n",
        "area_de_estudio = {\n",
        "    'Área Norte': [2819, 7236],\n",
        "    'Área Leste': [1440, 9492],\n",
        "    'Área Sul': [5969, 7496],\n",
        "    'Área Oeste': [14446, 49688],\n",
        "    'Área Centro': [22558, 45148]\n",
        "}\n",
        "\n",
        "mayor_diversidad = 0\n",
        "area_mas_diversa = \"\"\n",
        "\n",
        "for area, datos in area_de_estudio.items():\n",
        "    plantas, animales = datos\n",
        "    total = plantas + animales\n",
        "    promedio = total / 2\n",
        "\n",
        "    print(f\"En el {area} encontramos {plantas} plantas y {animales} animales. El promedio es {promedio:.2f} especies.\")\n",
        "\n",
        "    if total > mayor_diversidad:\n",
        "        mayor_diversidad = total\n",
        "        area_mas_diversa = area\n",
        "\n",
        "print(f\"El área con mayor diversidad biológica es el {area_mas_diversa} con un total de {mayor_diversidad} especies.\")\n",
        "\n"
      ],
      "metadata": {
        "colab": {
          "base_uri": "https://localhost:8080/"
        },
        "id": "RFzPZ6NbiSH-",
        "outputId": "2079d75a-a4ad-4ecc-9014-0688cef578a9"
      },
      "execution_count": 23,
      "outputs": [
        {
          "output_type": "stream",
          "name": "stdout",
          "text": [
            "En el Área Norte encontramos 2819 plantas y 7236 animales. El promedio es 5027.50 especies.\n",
            "En el Área Leste encontramos 1440 plantas y 9492 animales. El promedio es 5466.00 especies.\n",
            "En el Área Sul encontramos 5969 plantas y 7496 animales. El promedio es 6732.50 especies.\n",
            "En el Área Oeste encontramos 14446 plantas y 49688 animales. El promedio es 32067.00 especies.\n",
            "En el Área Centro encontramos 22558 plantas y 45148 animales. El promedio es 33853.00 especies.\n",
            "El área con mayor diversidad biológica es el Área Centro con un total de 67706 especies.\n"
          ]
        }
      ]
    },
    {
      "cell_type": "code",
      "source": [
        "##- El departamento de Recursos Humanos de tu empresa te pidió ayuda para analizar las edades de los colaboradores\n",
        "##de 4 sectores de la empresa. Para ello, te proporcionaron los siguientes datos:\n",
        "##{'Setor A': [22, 26, 30, 30, 35, 38, 40, 56, 57, 65],\n",
        "## 'Setor B': [22, 24, 26, 33, 41, 49, 50, 54, 60, 64],\n",
        "## 'Setor C': [23, 26, 26, 29, 34, 35, 36, 41, 52, 56],\n",
        "## 'Setor D': [19, 20, 25, 27, 34, 39, 42, 44, 50, 65]}\n",
        "##Dado que cada sector tiene 10 colaboradores, construye un código que calcule la media de edad de cada sector,\n",
        "## la edad media general entre todos los sectores y cuántas personas están por encima de la edad media general.\n",
        "\n",
        "edades_colaboradores = {\n",
        "'Sector A': [22, 26, 30, 30, 35, 38, 40, 56, 57, 65],\n",
        "'Sector B': [22, 24, 26, 33, 41, 49, 50, 54, 60, 64],\n",
        "'Sector C': [23, 26, 26, 29, 34, 35, 36, 41, 52, 56],\n",
        "'Sector D': [19, 20, 25, 27, 34, 39, 42, 44, 50, 65]\n",
        "}\n",
        "\n",
        "total_edades_general = 0\n",
        "total_colaboradores_general = 0\n",
        "edades_por_encima_media = 0\n",
        "\n",
        "for sector, edades in edades_colaboradores.items():\n",
        "    total_edades_sector = sum(edades)\n",
        "    total_colaboradores_sector = len(edades)\n",
        "    edad_media_sector = total_edades_sector / total_colaboradores_sector\n",
        "    print(f\"La edad media del sector {sector} es {edad_media_sector:.2f} años.\")\n",
        "\n",
        "    total_edades_general += total_edades_sector\n",
        "    total_colaboradores_general += total_colaboradores_sector\n",
        "\n",
        "edad_media_general = total_edades_general / total_colaboradores_general\n",
        "print(f\"\\nLa edad media general entre todos los sectores es {edad_media_general:.2f} años.\")\n",
        "\n",
        "for sector, edades in edades_colaboradores.items():\n",
        "    for edad in edades:\n",
        "        if edad > edad_media_general:\n",
        "            edades_por_encima_media += 1\n",
        "\n",
        "print(f\"La cantidad de personas por encima de la edad media general es {edades_por_encima_media}.\")"
      ],
      "metadata": {
        "colab": {
          "base_uri": "https://localhost:8080/"
        },
        "id": "9DVuwgK15bGJ",
        "outputId": "7f6bcd90-ddab-4cf4-b4dc-a58795629918"
      },
      "execution_count": 25,
      "outputs": [
        {
          "output_type": "stream",
          "name": "stdout",
          "text": [
            "La edad media del sector Sector A es 39.90 años.\n",
            "La edad media del sector Sector B es 42.30 años.\n",
            "La edad media del sector Sector C es 35.80 años.\n",
            "La edad media del sector Sector D es 36.50 años.\n",
            "\n",
            "La edad media general entre todos los sectores es 38.62 años.\n",
            "La cantidad de personas por encima de la edad media general es 18.\n"
          ]
        }
      ]
    },
    {
      "cell_type": "code",
      "source": [
        "edades_colaboradores = {\n",
        "    'Sector A': [22, 26, 30, 30, 35, 38, 40, 56, 57, 65],\n",
        "    'Sector B': [22, 24, 26, 33, 41, 49, 50, 54, 60, 64],\n",
        "    'Sector C': [23, 26, 26, 29, 34, 35, 36, 41, 52, 56],\n",
        "    'Sector D': [19, 20, 25, 27, 34, 39, 42, 44, 50, 65]\n",
        "}\n",
        "\n",
        "total_edades_general = 0\n",
        "total_colaboradores_general = 0\n",
        "edades_por_encima_media = 0\n",
        "\n",
        "# 1. Calcular edad media por sector y acumular datos para el promedio general\n",
        "for sector, edades in edades_colaboradores.items():\n",
        "    edad_media_sector = sum(edades) / len(edades)\n",
        "    print(f\"La edad media del {sector} es {edad_media_sector:.2f} años.\")\n",
        "\n",
        "    total_edades_general += sum(edades)\n",
        "    total_colaboradores_general += len(edades)\n",
        "\n",
        "# 2. Calcular edad media general\n",
        "edad_media_general = total_edades_general / total_colaboradores_general\n",
        "print(f\"\\nLa edad media general entre todos los sectores es {edad_media_general:.2f} años.\")\n",
        "\n",
        "# 3. Contar cuántas personas están por encima de la edad media general\n",
        "for edades in edades_colaboradores.values():\n",
        "    for edad in edades:\n",
        "        if edad > edad_media_general:\n",
        "            edades_por_encima_media += 1\n",
        "\n",
        "print(f\"Hay {edades_por_encima_media} personas por encima de la edad media.\")\n"
      ],
      "metadata": {
        "colab": {
          "base_uri": "https://localhost:8080/"
        },
        "id": "ma0wdqkiKWG-",
        "outputId": "66182ca0-cd25-417d-9412-cb2c327c8cd4"
      },
      "execution_count": 29,
      "outputs": [
        {
          "output_type": "stream",
          "name": "stdout",
          "text": [
            "La edad media del Sector A es 39.90 años.\n",
            "La edad media del Sector B es 42.30 años.\n",
            "La edad media del Sector C es 35.80 años.\n",
            "La edad media del Sector D es 36.50 años.\n",
            "\n",
            "La edad media general entre todos los sectores es 38.62 años.\n",
            "Hay 18 personas por encima de la edad media.\n"
          ]
        }
      ]
    }
  ],
  "metadata": {
    "colab": {
      "provenance": [],
      "history_visible": true,
      "authorship_tag": "ABX9TyP65Pub6xRrGpBo31YGThuy",
      "include_colab_link": true
    },
    "kernelspec": {
      "display_name": "Python 3",
      "name": "python3"
    },
    "language_info": {
      "name": "python"
    }
  },
  "nbformat": 4,
  "nbformat_minor": 0
}