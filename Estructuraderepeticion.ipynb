{
  "nbformat": 4,
  "nbformat_minor": 0,
  "metadata": {
    "colab": {
      "provenance": [],
      "authorship_tag": "ABX9TyO67uMTW3oZwhuOith88rkr",
      "include_colab_link": true
    },
    "kernelspec": {
      "name": "python3",
      "display_name": "Python 3"
    },
    "language_info": {
      "name": "python"
    }
  },
  "cells": [
    {
      "cell_type": "markdown",
      "metadata": {
        "id": "view-in-github",
        "colab_type": "text"
      },
      "source": [
        "<a href=\"https://colab.research.google.com/github/mafloan/Estructura-de-repeticion/blob/main/Estructuraderepeticion.ipynb\" target=\"_parent\"><img src=\"https://colab.research.google.com/assets/colab-badge.svg\" alt=\"Open In Colab\"/></a>"
      ]
    },
    {
      "cell_type": "code",
      "execution_count": null,
      "metadata": {
        "colab": {
          "base_uri": "https://localhost:8080/"
        },
        "id": "a2GuEKRU7cQJ",
        "outputId": "eeb1400e-1864-49bb-dce6-c938bff6c203"
      },
      "outputs": [
        {
          "output_type": "stream",
          "name": "stdout",
          "text": [
            "Ingrese la primera nota: 6.5\n",
            "Ingrese la segunda nota: 7.5\n",
            "El promedio del estudiante A es 7.0 \n",
            "Ingrese la primera nota: 8.3\n",
            "Ingrese la segunda nota: 9\n",
            "El promedio del estudiante B es 8.65 \n",
            "Ingrese la primera nota: 3\n",
            "Ingrese la segunda nota: 10\n",
            "El promedio del estudiante C es 6.5 \n"
          ]
        }
      ],
      "source": [
        "nota1=float(input(\"Ingrese la primera nota: \"))\n",
        "nota2=float(input(\"Ingrese la segunda nota: \"))\n",
        "print(f'El promedio del estudiante A es {(nota1+nota2)/2} ')\n",
        "\n",
        "nota1=float(input(\"Ingrese la primera nota: \"))\n",
        "nota2=float(input(\"Ingrese la segunda nota: \"))\n",
        "print(f'El promedio del estudiante B es {(nota1+nota2)/2} ')\n",
        "\n",
        "nota1=float(input(\"Ingrese la primera nota: \"))\n",
        "nota2=float(input(\"Ingrese la segunda nota: \"))\n",
        "print(f'El promedio del estudiante C es {(nota1+nota2)/2} ')\n",
        "\n",
        "\n"
      ]
    },
    {
      "cell_type": "code",
      "source": [
        "##Recoletar notas y obtener promedio de cada alumno\n",
        "\n",
        "contador=1\n",
        "while contador <=3:\n",
        "  nota1=float(input(\"Ingrese la primera nota: \"))\n",
        "  nota2=float(input(\"Ingrese la segunda nota: \"))\n",
        "  print(f'El promedio del estudiante es {(nota1+nota2)/2} ')\n",
        "  contador += 1\n"
      ],
      "metadata": {
        "colab": {
          "base_uri": "https://localhost:8080/"
        },
        "id": "mMTryLx8_m3O",
        "outputId": "cb2ec644-2fcf-49cd-97d5-1e7973c70dd9"
      },
      "execution_count": null,
      "outputs": [
        {
          "output_type": "stream",
          "name": "stdout",
          "text": [
            "Ingrese la primera nota: 6.5\n",
            "Ingrese la segunda nota: 7.5\n",
            "El promedio del estudiante es 7.0 \n",
            "Ingrese la primera nota: 8.3\n",
            "Ingrese la segunda nota: 9\n",
            "El promedio del estudiante es 8.65 \n",
            "Ingrese la primera nota: 3\n",
            "Ingrese la segunda nota: 10\n",
            "El promedio del estudiante es 6.5 \n"
          ]
        }
      ]
    },
    {
      "cell_type": "code",
      "source": [
        "for e in range(1,4):\n",
        "  nota1=float(input(\"Ingrese la primera nota: \"))\n",
        "  nota2=float(input(\"Ingrese la segunda nota: \"))\n",
        "  print(f'El promedio del estudiante es {(nota1+nota2)/2} ')"
      ],
      "metadata": {
        "colab": {
          "base_uri": "https://localhost:8080/"
        },
        "id": "jV8veus2Kp19",
        "outputId": "c7615c41-a750-452e-b0c0-1d4d2e1e8edb"
      },
      "execution_count": null,
      "outputs": [
        {
          "output_type": "stream",
          "name": "stdout",
          "text": [
            "Ingrese la primera nota: 7\n",
            "Ingrese la segunda nota: 8\n",
            "El promedio del estudiante es 7.5 \n",
            "Ingrese la primera nota: 9\n",
            "Ingrese la segunda nota: 8\n",
            "El promedio del estudiante es 8.5 \n",
            "Ingrese la primera nota: 3\n",
            "Ingrese la segunda nota: 10\n",
            "El promedio del estudiante es 6.5 \n"
          ]
        }
      ]
    },
    {
      "cell_type": "code",
      "source": [
        "##Constuir un contador de 1 hasta 10\n",
        "\n",
        "contador=1\n",
        "while contador <=10:\n",
        "  print(contador)\n",
        "  contador +=1"
      ],
      "metadata": {
        "colab": {
          "base_uri": "https://localhost:8080/"
        },
        "id": "7ISg7eEi858f",
        "outputId": "9dbb3f4d-4cdb-4df9-cc72-f8cd6b98157f"
      },
      "execution_count": null,
      "outputs": [
        {
          "output_type": "stream",
          "name": "stdout",
          "text": [
            "1\n",
            "2\n",
            "3\n",
            "4\n",
            "5\n",
            "6\n",
            "7\n",
            "8\n",
            "9\n",
            "10\n"
          ]
        }
      ]
    },
    {
      "cell_type": "code",
      "source": [
        "for n in range(1,11):\n",
        "  print(n)\n"
      ],
      "metadata": {
        "colab": {
          "base_uri": "https://localhost:8080/"
        },
        "id": "ouARkl8WCdY5",
        "outputId": "ba5b50d5-a04c-4425-baad-43ecb5e27d13"
      },
      "execution_count": null,
      "outputs": [
        {
          "output_type": "stream",
          "name": "stdout",
          "text": [
            "1\n",
            "2\n",
            "3\n",
            "4\n",
            "5\n",
            "6\n",
            "7\n",
            "8\n",
            "9\n",
            "10\n"
          ]
        }
      ]
    },
    {
      "cell_type": "code",
      "source": [
        "for i in range(1, 6):\n",
        "    if i == 4:\n",
        "        continue\n",
        "    print(i)"
      ],
      "metadata": {
        "colab": {
          "base_uri": "https://localhost:8080/"
        },
        "id": "P0VtqqQwN2TK",
        "outputId": "f127259a-27c2-48d8-f41d-b9d5eda0471d"
      },
      "execution_count": null,
      "outputs": [
        {
          "output_type": "stream",
          "name": "stdout",
          "text": [
            "1\n",
            "2\n",
            "3\n",
            "5\n"
          ]
        }
      ]
    },
    {
      "cell_type": "code",
      "source": [
        "for i in range(1, 6):\n",
        "    if i == 4:\n",
        "        break\n",
        "    print(i)\n"
      ],
      "metadata": {
        "colab": {
          "base_uri": "https://localhost:8080/"
        },
        "id": "27h390wpN-Xp",
        "outputId": "799ae78a-8dd0-48cb-a7d1-955fd4e619e5"
      },
      "execution_count": null,
      "outputs": [
        {
          "output_type": "stream",
          "name": "stdout",
          "text": [
            "1\n",
            "2\n",
            "3\n"
          ]
        }
      ]
    },
    {
      "cell_type": "code",
      "source": [
        "## Escribe un programa que solicite dos números enteros e imprima todos los números enteros entre ellos.\n",
        "\n",
        "num1=int(input(\"Ingrese el primer número: \"))\n",
        "num2=int(input(\"Ingrese el segundo número: \"))\n",
        "\n",
        "for i in range(num1, num2):\n",
        "  print(i)\n"
      ],
      "metadata": {
        "colab": {
          "base_uri": "https://localhost:8080/"
        },
        "id": "QwZHVWMYOH6q",
        "outputId": "2f992d18-2a21-468b-eaf0-18455279a18d"
      },
      "execution_count": null,
      "outputs": [
        {
          "output_type": "stream",
          "name": "stdout",
          "text": [
            "Ingrese el primer número: 45\n",
            "Ingrese el segundo número: 67\n",
            "45\n",
            "46\n",
            "47\n",
            "48\n",
            "49\n",
            "50\n",
            "51\n",
            "52\n",
            "53\n",
            "54\n",
            "55\n",
            "56\n",
            "57\n",
            "58\n",
            "59\n",
            "60\n",
            "61\n",
            "62\n",
            "63\n",
            "64\n",
            "65\n",
            "66\n"
          ]
        }
      ]
    },
    {
      "cell_type": "code",
      "source": [
        "## Escribe un programa para calcular cuántos días tomará que la colonia de una bacteria A supere o iguale a la colonia de una bacteria B, basado en tasas de crecimiento del 3% y 1.5%, respectivamente. Supón que la colonia A comienza con 4 elementos y B con 10.\n",
        "\n",
        "##bacteria A 4 unidades tasas de crecimiento 3%\n",
        "##bacteria B 10 unidades tasade crecimiento 1.5%\n",
        "\n",
        "bateria_A=4\n",
        "bateria_B=10\n",
        "tasa_A=1.03 ##1+(3/100)\n",
        "tasa_B=1.015 ##1+(1.5/100)\n",
        "dias=0 ##contador de días\n",
        "\n",
        "while bateria_A < bateria_B: ## se va a continuar contando los días mientras B sea mayor a A\n",
        "  bateria_A *= tasa_A\n",
        "  bateria_B *= tasa_B\n",
        "  dias +=1\n",
        "\n",
        "print(f'Tomará {dias} para que la colonia A supere a la colonia B')\n",
        "\n",
        "\n",
        "\n"
      ],
      "metadata": {
        "colab": {
          "base_uri": "https://localhost:8080/"
        },
        "id": "jyCGtasEQLQM",
        "outputId": "c3a238db-a043-4879-ce8d-9d3568121eb7"
      },
      "execution_count": null,
      "outputs": [
        {
          "output_type": "stream",
          "name": "stdout",
          "text": [
            "Tomará 63 para que la colonia A supere a la colonia B\n"
          ]
        }
      ]
    },
    {
      "cell_type": "code",
      "source": [
        "##Para procesar una cantidad de 15 datos de evaluaciones de usuarios de un servicio de la empresa, necesitamos verificar si las calificaciones son válidas. Por lo tanto, escribe un programa que recibirá calificaciones del 0 al 5 y verificará si son valores válidos. Si se ingresa una calificación superior a 5 o inferior a 0, se repetirá hasta que el usuario ingrese un valor válido.\n",
        "\n",
        "for i in range(15): ### se va a evaluar las quince calificaciones\n",
        "\n",
        "##mientras las calificaciones sean válidas\n",
        "\n",
        "    while True:\n",
        "      nota = float(input(\"Ingrese su calificación: (entre 0 y 5)\" ))\n",
        "    if 0 <= nota <= 5 :\n",
        "      print(\"Calificación válida\")\n",
        "      break ##se sale del ciclo\n",
        "\n",
        "    else:\n",
        "     print(\"Calificación inválida. Por favor, ingrese una calificación entre 0 y 5\")"
      ],
      "metadata": {
        "id": "YKXA3r2nYeWw"
      },
      "execution_count": null,
      "outputs": []
    },
    {
      "cell_type": "code",
      "source": [],
      "metadata": {
        "id": "H3264xsnguc8"
      },
      "execution_count": null,
      "outputs": []
    }
  ]
}